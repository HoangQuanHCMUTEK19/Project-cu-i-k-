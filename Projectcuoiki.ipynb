{
  "nbformat": 4,
  "nbformat_minor": 0,
  "metadata": {
    "colab": {
      "name": "Projectcuoiki.ipynb",
      "provenance": [],
      "collapsed_sections": [],
      "authorship_tag": "ABX9TyM3tb8IKM720vAwKWfTrveH",
      "include_colab_link": true
    },
    "kernelspec": {
      "name": "python3",
      "display_name": "Python 3"
    },
    "language_info": {
      "name": "python"
    },
    "accelerator": "GPU"
  },
  "cells": [
    {
      "cell_type": "markdown",
      "metadata": {
        "id": "view-in-github",
        "colab_type": "text"
      },
      "source": [
        "<a href=\"https://colab.research.google.com/github/HoangQuanHCMUTEK19/Project-cu-i-k-/blob/main/Projectcuoiki.ipynb\" target=\"_parent\"><img src=\"https://colab.research.google.com/assets/colab-badge.svg\" alt=\"Open In Colab\"/></a>"
      ]
    },
    {
      "cell_type": "code",
      "execution_count": null,
      "metadata": {
        "id": "F9jV_JsjvaOB"
      },
      "outputs": [],
      "source": [
        "#import thư viện\n",
        "from keras.utils import np_utils\n",
        "import cv2\n",
        "import matplotlib.pyplot as plt\n",
        "import numpy as np\n",
        "import tensorflow.compat.v2 as tf\n",
        "from tensorflow import keras\n",
        "import os\n",
        "import pandas as pd\n",
        "#Lấy các model, các hàm tối ưu \n",
        "from keras.models import Sequential\n",
        "from keras.layers import Dense, Activation, Dropout,Flatten,Conv2D,MaxPooling2D\n",
        "from tensorflow.keras.optimizers import Adam, RMSprop,SGD\n",
        "#Load các lệnh xử lí ảnh \n",
        "from keras.preprocessing.image import load_img\n",
        "from keras.preprocessing.image import img_to_array\n",
        "from keras.models import load_model\n",
        "from keras.preprocessing import  image\n",
        "from tensorflow.keras.preprocessing.image import ImageDataGenerator"
      ]
    },
    {
      "cell_type": "code",
      "source": [
        "#Link Train \n",
        "train_path = '/content/drive/MyDrive/loai3'"
      ],
      "metadata": {
        "id": "Bmuio8gf82zE"
      },
      "execution_count": null,
      "outputs": []
    },
    {
      "cell_type": "code",
      "source": [
        "#Ket noi voi google drive\n",
        "from google.colab import drive\n",
        "drive.mount('/content/drive/')"
      ],
      "metadata": {
        "colab": {
          "base_uri": "https://localhost:8080/"
        },
        "id": "ue7a5BMQ9Ur6",
        "outputId": "290b3933-bf08-4c9d-9c1e-acc6f0bbde69"
      },
      "execution_count": null,
      "outputs": [
        {
          "output_type": "stream",
          "name": "stdout",
          "text": [
            "Mounted at /content/drive/\n"
          ]
        }
      ]
    },
    {
      "cell_type": "code",
      "source": [
        "train = ImageDataGenerator(rescale=1/255,shear_range=0.3,\n",
        "                           horizontal_flip=True,vertical_flip=False,zoom_range=0.3)\n",
        "train_dataset = train.flow_from_directory(train_path,target_size=(150,150),batch_size=8,\n",
        "                                          color_mode=\"grayscale\",class_mode=\"categorical\")"
      ],
      "metadata": {
        "colab": {
          "base_uri": "https://localhost:8080/"
        },
        "id": "4lvDBsck9LrK",
        "outputId": "740cae25-d99a-4f42-9493-264ba044c380"
      },
      "execution_count": null,
      "outputs": [
        {
          "output_type": "stream",
          "name": "stdout",
          "text": [
            "Found 480 images belonging to 6 classes.\n"
          ]
        }
      ]
    },
    {
      "cell_type": "code",
      "source": [
        "train_dataset.class_indices"
      ],
      "metadata": {
        "colab": {
          "base_uri": "https://localhost:8080/"
        },
        "id": "FHIsrE0I9g9U",
        "outputId": "66e57d58-454f-4c23-feab-b5b50bcc8b29"
      },
      "execution_count": null,
      "outputs": [
        {
          "output_type": "execute_result",
          "data": {
            "text/plain": [
              "{'HongDiem': 0,\n",
              " 'ManhTruong': 1,\n",
              " 'QuocTruong': 2,\n",
              " 'TranThanh': 3,\n",
              " 'TruongGiang': 4,\n",
              " 'VietAnh': 5}"
            ]
          },
          "metadata": {},
          "execution_count": 57
        }
      ]
    },
    {
      "cell_type": "code",
      "source": [
        "#Thiet Lap Model \n",
        "model = Sequential()\n",
        "model.add(Conv2D(32, (3, 3), activation='relu', kernel_initializer='he_uniform', padding='same',input_shape=(150,150,1)))\n",
        "model.add(Conv2D(32, (3, 3), activation='relu', kernel_initializer='he_uniform', padding='same'))\n",
        "model.add(MaxPooling2D(2,2))\n",
        "model.add(Dropout(0.25))\n",
        "model.add(Conv2D(64, (3, 3), activation='relu', kernel_initializer='he_uniform', padding='same'))\n",
        "model.add(Conv2D(64, (3, 3), activation='relu', kernel_initializer='he_uniform', padding='same'))\n",
        "model.add(MaxPooling2D(2,2))\n",
        "model.add(Dropout(0.25))\n",
        "model.add(Flatten())\n",
        "model.add(Dense(256,activation='relu',kernel_initializer='he_uniform'))\n",
        "model.add(Dropout(0.5))\n",
        "model.add(Dense(6,activation='softmax'))\n",
        "model.summary()"
      ],
      "metadata": {
        "colab": {
          "base_uri": "https://localhost:8080/"
        },
        "id": "-QSWqZl697A0",
        "outputId": "48e4d562-6bdf-454c-d54a-04fe8bbd4a5c"
      },
      "execution_count": null,
      "outputs": [
        {
          "output_type": "stream",
          "name": "stdout",
          "text": [
            "Model: \"sequential_3\"\n",
            "_________________________________________________________________\n",
            " Layer (type)                Output Shape              Param #   \n",
            "=================================================================\n",
            " conv2d_12 (Conv2D)          (None, 150, 150, 32)      320       \n",
            "                                                                 \n",
            " conv2d_13 (Conv2D)          (None, 150, 150, 32)      9248      \n",
            "                                                                 \n",
            " max_pooling2d_6 (MaxPooling  (None, 75, 75, 32)       0         \n",
            " 2D)                                                             \n",
            "                                                                 \n",
            " dropout_9 (Dropout)         (None, 75, 75, 32)        0         \n",
            "                                                                 \n",
            " conv2d_14 (Conv2D)          (None, 75, 75, 64)        18496     \n",
            "                                                                 \n",
            " conv2d_15 (Conv2D)          (None, 75, 75, 64)        36928     \n",
            "                                                                 \n",
            " max_pooling2d_7 (MaxPooling  (None, 37, 37, 64)       0         \n",
            " 2D)                                                             \n",
            "                                                                 \n",
            " dropout_10 (Dropout)        (None, 37, 37, 64)        0         \n",
            "                                                                 \n",
            " flatten_3 (Flatten)         (None, 87616)             0         \n",
            "                                                                 \n",
            " dense_6 (Dense)             (None, 256)               22429952  \n",
            "                                                                 \n",
            " dropout_11 (Dropout)        (None, 256)               0         \n",
            "                                                                 \n",
            " dense_7 (Dense)             (None, 6)                 1542      \n",
            "                                                                 \n",
            "=================================================================\n",
            "Total params: 22,496,486\n",
            "Trainable params: 22,496,486\n",
            "Non-trainable params: 0\n",
            "_________________________________________________________________\n"
          ]
        }
      ]
    },
    {
      "cell_type": "code",
      "source": [
        "#Complie Model \n",
        "model.compile(optimizer=\"SGD\", loss='categorical_crossentropy', metrics=['accuracy'])"
      ],
      "metadata": {
        "id": "1izNaqzp-S67"
      },
      "execution_count": null,
      "outputs": []
    },
    {
      "cell_type": "code",
      "source": [
        "#Training Model \n",
        "history = model.fit(train_dataset,epochs = 70,batch_size=32)"
      ],
      "metadata": {
        "colab": {
          "base_uri": "https://localhost:8080/"
        },
        "id": "BBg-ixKH-Uqy",
        "outputId": "b908efad-0f9e-444a-829a-be87361fa21e"
      },
      "execution_count": null,
      "outputs": [
        {
          "output_type": "stream",
          "name": "stdout",
          "text": [
            "Epoch 1/70\n",
            "60/60 [==============================] - 3s 49ms/step - loss: 2.0413 - accuracy: 0.1937\n",
            "Epoch 2/70\n",
            "60/60 [==============================] - 3s 53ms/step - loss: 1.7737 - accuracy: 0.2313\n",
            "Epoch 3/70\n",
            "60/60 [==============================] - 4s 58ms/step - loss: 1.7654 - accuracy: 0.2479\n",
            "Epoch 4/70\n",
            "60/60 [==============================] - 3s 49ms/step - loss: 1.7391 - accuracy: 0.2833\n",
            "Epoch 5/70\n",
            "60/60 [==============================] - 3s 49ms/step - loss: 1.6991 - accuracy: 0.3104\n",
            "Epoch 6/70\n",
            "60/60 [==============================] - 3s 49ms/step - loss: 1.6711 - accuracy: 0.3229\n",
            "Epoch 7/70\n",
            "60/60 [==============================] - 3s 48ms/step - loss: 1.6211 - accuracy: 0.3500\n",
            "Epoch 8/70\n",
            "60/60 [==============================] - 3s 48ms/step - loss: 1.4962 - accuracy: 0.3875\n",
            "Epoch 9/70\n",
            "60/60 [==============================] - 3s 50ms/step - loss: 1.4392 - accuracy: 0.4375\n",
            "Epoch 10/70\n",
            "60/60 [==============================] - 3s 50ms/step - loss: 1.3905 - accuracy: 0.4771\n",
            "Epoch 11/70\n",
            "60/60 [==============================] - 3s 49ms/step - loss: 1.3828 - accuracy: 0.4792\n",
            "Epoch 12/70\n",
            "60/60 [==============================] - 3s 49ms/step - loss: 1.3116 - accuracy: 0.4896\n",
            "Epoch 13/70\n",
            "60/60 [==============================] - 3s 48ms/step - loss: 1.2485 - accuracy: 0.5083\n",
            "Epoch 14/70\n",
            "60/60 [==============================] - 3s 49ms/step - loss: 1.2129 - accuracy: 0.5333\n",
            "Epoch 15/70\n",
            "60/60 [==============================] - 3s 50ms/step - loss: 1.2497 - accuracy: 0.5063\n",
            "Epoch 16/70\n",
            "60/60 [==============================] - 3s 49ms/step - loss: 1.1651 - accuracy: 0.5458\n",
            "Epoch 17/70\n",
            "60/60 [==============================] - 3s 50ms/step - loss: 1.1815 - accuracy: 0.5542\n",
            "Epoch 18/70\n",
            "60/60 [==============================] - 3s 48ms/step - loss: 1.0963 - accuracy: 0.5729\n",
            "Epoch 19/70\n",
            "60/60 [==============================] - 3s 49ms/step - loss: 1.0817 - accuracy: 0.6062\n",
            "Epoch 20/70\n",
            "60/60 [==============================] - 3s 49ms/step - loss: 1.0229 - accuracy: 0.6417\n",
            "Epoch 21/70\n",
            "60/60 [==============================] - 3s 49ms/step - loss: 1.0834 - accuracy: 0.5938\n",
            "Epoch 22/70\n",
            "60/60 [==============================] - 3s 50ms/step - loss: 1.0037 - accuracy: 0.6208\n",
            "Epoch 23/70\n",
            "60/60 [==============================] - 3s 48ms/step - loss: 1.0148 - accuracy: 0.5958\n",
            "Epoch 24/70\n",
            "60/60 [==============================] - 3s 49ms/step - loss: 0.9870 - accuracy: 0.6042\n",
            "Epoch 25/70\n",
            "60/60 [==============================] - 3s 49ms/step - loss: 0.9635 - accuracy: 0.6583\n",
            "Epoch 26/70\n",
            "60/60 [==============================] - 3s 49ms/step - loss: 0.9516 - accuracy: 0.6354\n",
            "Epoch 27/70\n",
            "60/60 [==============================] - 3s 49ms/step - loss: 0.8970 - accuracy: 0.6667\n",
            "Epoch 28/70\n",
            "60/60 [==============================] - 3s 49ms/step - loss: 0.9285 - accuracy: 0.6417\n",
            "Epoch 29/70\n",
            "60/60 [==============================] - 3s 49ms/step - loss: 0.8781 - accuracy: 0.6812\n",
            "Epoch 30/70\n",
            "60/60 [==============================] - 3s 49ms/step - loss: 0.8284 - accuracy: 0.7021\n",
            "Epoch 31/70\n",
            "60/60 [==============================] - 3s 49ms/step - loss: 0.8943 - accuracy: 0.6687\n",
            "Epoch 32/70\n",
            "60/60 [==============================] - 3s 50ms/step - loss: 0.8678 - accuracy: 0.6625\n",
            "Epoch 33/70\n",
            "60/60 [==============================] - 3s 49ms/step - loss: 0.8419 - accuracy: 0.6917\n",
            "Epoch 34/70\n",
            "60/60 [==============================] - 3s 49ms/step - loss: 0.7883 - accuracy: 0.6854\n",
            "Epoch 35/70\n",
            "60/60 [==============================] - 3s 50ms/step - loss: 0.8111 - accuracy: 0.6854\n",
            "Epoch 36/70\n",
            "60/60 [==============================] - 3s 48ms/step - loss: 0.7819 - accuracy: 0.7146\n",
            "Epoch 37/70\n",
            "60/60 [==============================] - 3s 49ms/step - loss: 0.7772 - accuracy: 0.7354\n",
            "Epoch 38/70\n",
            "60/60 [==============================] - 3s 49ms/step - loss: 0.7359 - accuracy: 0.7167\n",
            "Epoch 39/70\n",
            "60/60 [==============================] - 3s 50ms/step - loss: 0.7252 - accuracy: 0.7292\n",
            "Epoch 40/70\n",
            "60/60 [==============================] - 3s 50ms/step - loss: 0.7467 - accuracy: 0.7354\n",
            "Epoch 41/70\n",
            "60/60 [==============================] - 3s 50ms/step - loss: 0.6921 - accuracy: 0.7625\n",
            "Epoch 42/70\n",
            "60/60 [==============================] - 3s 49ms/step - loss: 0.6770 - accuracy: 0.7458\n",
            "Epoch 43/70\n",
            "60/60 [==============================] - 3s 49ms/step - loss: 0.7290 - accuracy: 0.7375\n",
            "Epoch 44/70\n",
            "60/60 [==============================] - 3s 50ms/step - loss: 0.6478 - accuracy: 0.7625\n",
            "Epoch 45/70\n",
            "60/60 [==============================] - 3s 49ms/step - loss: 0.6790 - accuracy: 0.7479\n",
            "Epoch 46/70\n",
            "60/60 [==============================] - 3s 49ms/step - loss: 0.6462 - accuracy: 0.7688\n",
            "Epoch 47/70\n",
            "60/60 [==============================] - 3s 49ms/step - loss: 0.6318 - accuracy: 0.7812\n",
            "Epoch 48/70\n",
            "60/60 [==============================] - 3s 51ms/step - loss: 0.6221 - accuracy: 0.7854\n",
            "Epoch 49/70\n",
            "60/60 [==============================] - 3s 50ms/step - loss: 0.6269 - accuracy: 0.7708\n",
            "Epoch 50/70\n",
            "60/60 [==============================] - 3s 50ms/step - loss: 0.6054 - accuracy: 0.7708\n",
            "Epoch 51/70\n",
            "60/60 [==============================] - 3s 49ms/step - loss: 0.5636 - accuracy: 0.7854\n",
            "Epoch 52/70\n",
            "60/60 [==============================] - 3s 49ms/step - loss: 0.5362 - accuracy: 0.8313\n",
            "Epoch 53/70\n",
            "60/60 [==============================] - 3s 49ms/step - loss: 0.5255 - accuracy: 0.8062\n",
            "Epoch 54/70\n",
            "60/60 [==============================] - 3s 50ms/step - loss: 0.5478 - accuracy: 0.7958\n",
            "Epoch 55/70\n",
            "60/60 [==============================] - 3s 49ms/step - loss: 0.5589 - accuracy: 0.8146\n",
            "Epoch 56/70\n",
            "60/60 [==============================] - 3s 49ms/step - loss: 0.5161 - accuracy: 0.8125\n",
            "Epoch 57/70\n",
            "60/60 [==============================] - 3s 49ms/step - loss: 0.5163 - accuracy: 0.8125\n",
            "Epoch 58/70\n",
            "60/60 [==============================] - 3s 50ms/step - loss: 0.4867 - accuracy: 0.8167\n",
            "Epoch 59/70\n",
            "60/60 [==============================] - 3s 50ms/step - loss: 0.4929 - accuracy: 0.8313\n",
            "Epoch 60/70\n",
            "60/60 [==============================] - 3s 50ms/step - loss: 0.4972 - accuracy: 0.8313\n",
            "Epoch 61/70\n",
            "60/60 [==============================] - 3s 50ms/step - loss: 0.4949 - accuracy: 0.8396\n",
            "Epoch 62/70\n",
            "60/60 [==============================] - 3s 49ms/step - loss: 0.4429 - accuracy: 0.8375\n",
            "Epoch 63/70\n",
            "60/60 [==============================] - 3s 49ms/step - loss: 0.5647 - accuracy: 0.7979\n",
            "Epoch 64/70\n",
            "60/60 [==============================] - 3s 49ms/step - loss: 0.4674 - accuracy: 0.8292\n",
            "Epoch 65/70\n",
            "60/60 [==============================] - 3s 50ms/step - loss: 0.4747 - accuracy: 0.8229\n",
            "Epoch 66/70\n",
            "60/60 [==============================] - 3s 49ms/step - loss: 0.4794 - accuracy: 0.8146\n",
            "Epoch 67/70\n",
            "60/60 [==============================] - 3s 49ms/step - loss: 0.4672 - accuracy: 0.8125\n",
            "Epoch 68/70\n",
            "60/60 [==============================] - 3s 50ms/step - loss: 0.4844 - accuracy: 0.8458\n",
            "Epoch 69/70\n",
            "60/60 [==============================] - 3s 49ms/step - loss: 0.4297 - accuracy: 0.8417\n",
            "Epoch 70/70\n",
            "60/60 [==============================] - 3s 48ms/step - loss: 0.4126 - accuracy: 0.8396\n"
          ]
        }
      ]
    },
    {
      "cell_type": "code",
      "source": [
        "#Vẽ đồ thị loss \n",
        "plt.subplot(2,1,1)\n",
        "plt.plot(history.history['loss'])\n",
        "plt.title('Model Loss')\n",
        "plt.ylabel('Loss')\n",
        "plt.xlabel('Epoch')\n",
        "plt.legend(['train','validation'])\n",
        "plt.show()\n",
        "#Vẽ đồ thị Accuracy\n",
        "plt.subplot(2,1,2)\n",
        "plt.plot(history.history['accuracy'])\n",
        "plt.title('Model Accuracy')\n",
        "plt.ylabel('Accuracy')\n",
        "plt.xlabel('Epoch')\n",
        "plt.legend(['train','validation'])\n",
        "plt.show()"
      ],
      "metadata": {
        "id": "icjiZOanHMlI",
        "outputId": "512ad904-4da9-4e20-c867-be56f090f24a",
        "colab": {
          "base_uri": "https://localhost:8080/",
          "height": 337
        }
      },
      "execution_count": null,
      "outputs": [
        {
          "output_type": "display_data",
          "data": {
            "text/plain": [
              "<Figure size 432x288 with 1 Axes>"
            ],
            "image/png": "[encoded data removed]"
          },
          "metadata": {
            "needs_background": "light"
          }
        },
        {
          "output_type": "display_data",
          "data": {
            "text/plain": [
              "<Figure size 432x288 with 1 Axes>"
            ],
            "image/png": "[encoded data removed]"
          },
          "metadata": {
            "needs_background": "light"
          }
        }
      ]
    },
    {
      "cell_type": "code",
      "source": [
        "label = ['Hồng Diễm','Mạnh Trường','Quốc Trường','Trấn Thành','Trường Giang','Việt Anh']\n"
      ],
      "metadata": {
        "id": "VuJER8v8AUTF"
      },
      "execution_count": null,
      "outputs": []
    },
    {
      "cell_type": "code",
      "source": [
        "model.save('Projectk.h5')"
      ],
      "metadata": {
        "id": "_hIk8nyZa3kh"
      },
      "execution_count": null,
      "outputs": []
    },
    {
      "cell_type": "code",
      "source": [
        "#Load ảnh \n",
        "img = cv2.imread('42.jpg')\n",
        "img = cv2.resize(img,(150,150)) #chỉnh kích thước  ảnh về 150x150 \n",
        "img = cv2.cvtColor(img, cv2.COLOR_BGR2GRAY) # chuyển ảnh về đen trắng \n",
        "plt.imshow(img,'gray') # Hiển thị ảnh \n",
        "#Chuyển ảnh về mảng \n",
        "img = img_to_array(img)\n",
        "img = img.reshape(1,150,150,1) # đưa ảnh về hình dạng mới cho một mảng mà không thay đổi dữ liệu của nó.\n",
        "img = img.astype('float32') #thay đổi kiểu dữ liệu\n",
        "img = img/255 #chuẩn hóa dữ liệu thành 0 và  1 \n",
        "dudoan = model.predict(img)\n",
        "print(np.argmax(dudoan))\n",
        "print(dudoan)\n",
        "print('Tỉ lệ giống với diễn viên '+ label[np.argmax(dudoan)]+ 'là' ,np.max(dudoan)*100 , '%')"
      ],
      "metadata": {
        "colab": {
          "base_uri": "https://localhost:8080/",
          "height": 338
        },
        "id": "ZYf3axeo_5F7",
        "outputId": "8bf87294-5346-4e53-987d-b22d4f96e032"
      },
      "execution_count": null,
      "outputs": [
        {
          "output_type": "stream",
          "name": "stdout",
          "text": [
            "1\n",
            "[[2.5614752e-05 9.7010684e-01 1.0622210e-03 1.5849378e-03 2.4453690e-04\n",
            "  2.6975889e-02]]\n",
            "Tỉ lệ giống với diễn viên Mạnh Trườnglà 97.0106840133667 %\n"
          ]
        },
        {
          "output_type": "display_data",
          "data": {
            "text/plain": [
              "<Figure size 432x288 with 1 Axes>"
            ],
            "image/png": "[encoded data removed]"
          },
          "metadata": {
            "needs_background": "light"
          }
        }
      ]
    }
  ]
}